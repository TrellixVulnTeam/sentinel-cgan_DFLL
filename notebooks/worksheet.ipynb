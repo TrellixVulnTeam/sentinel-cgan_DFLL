{
 "cells": [
  {
   "cell_type": "code",
   "execution_count": 4,
   "metadata": {
    "collapsed": true,
    "pycharm": {
     "is_executing": false
    }
   },
   "outputs": [],
   "source": [
    "import pandas as pd\n",
    "from generator import SentinelDataGenerator, Purpose\n",
    "\n",
    "generator = SentinelDataGenerator('sample')"
   ]
  },
  {
   "cell_type": "code",
   "execution_count": 2,
   "outputs": [
    {
     "data": {
      "text/html": "<div>\n<style scoped>\n    .dataframe tbody tr th:only-of-type {\n        vertical-align: middle;\n    }\n\n    .dataframe tbody tr th {\n        vertical-align: top;\n    }\n\n    .dataframe thead th {\n        text-align: right;\n    }\n</style>\n<table border=\"1\" class=\"dataframe\">\n  <thead>\n    <tr style=\"text-align: right;\">\n      <th></th>\n      <th>id</th>\n    </tr>\n  </thead>\n  <tbody>\n    <tr>\n      <th>0</th>\n      <td>56</td>\n    </tr>\n    <tr>\n      <th>1</th>\n      <td>57</td>\n    </tr>\n    <tr>\n      <th>2</th>\n      <td>58</td>\n    </tr>\n    <tr>\n      <th>3</th>\n      <td>59</td>\n    </tr>\n    <tr>\n      <th>4</th>\n      <td>60</td>\n    </tr>\n    <tr>\n      <th>...</th>\n      <td>...</td>\n    </tr>\n    <tr>\n      <th>85</th>\n      <td>941</td>\n    </tr>\n    <tr>\n      <th>86</th>\n      <td>942</td>\n    </tr>\n    <tr>\n      <th>87</th>\n      <td>943</td>\n    </tr>\n    <tr>\n      <th>88</th>\n      <td>944</td>\n    </tr>\n    <tr>\n      <th>89</th>\n      <td>945</td>\n    </tr>\n  </tbody>\n</table>\n<p>90 rows × 1 columns</p>\n</div>",
      "text/plain": "     id\n0    56\n1    57\n2    58\n3    59\n4    60\n..  ...\n85  941\n86  942\n87  943\n88  944\n89  945\n\n[90 rows x 1 columns]"
     },
     "metadata": {},
     "output_type": "execute_result",
     "execution_count": 2
    }
   ],
   "source": [
    "generator.images_df(Purpose.TRAIN)"
   ],
   "metadata": {
    "collapsed": false,
    "pycharm": {
     "name": "#%%\n",
     "is_executing": false
    }
   }
  },
  {
   "cell_type": "code",
   "execution_count": 7,
   "outputs": [
    {
     "data": {
      "text/html": "<div>\n<style scoped>\n    .dataframe tbody tr th:only-of-type {\n        vertical-align: middle;\n    }\n\n    .dataframe tbody tr th {\n        vertical-align: top;\n    }\n\n    .dataframe thead th {\n        text-align: right;\n    }\n</style>\n<table border=\"1\" class=\"dataframe\">\n  <thead>\n    <tr style=\"text-align: right;\">\n      <th></th>\n      <th>input image</th>\n      <th>conditioning image</th>\n    </tr>\n  </thead>\n  <tbody>\n    <tr>\n      <th>0</th>\n      <td>[[[1059.0, 1061.0, 1162.0, 1911.0], [1082.0, 1...</td>\n      <td>[[[6.0], [6.0], [6.0], [6.0], [6.0], [6.0], [6...</td>\n    </tr>\n    <tr>\n      <th>1</th>\n      <td>[[[973.0, 1060.0, 1182.0, 2611.0], [847.0, 996...</td>\n      <td>[[[2.0], [2.0], [2.0], [2.0], [2.0], [2.0], [2...</td>\n    </tr>\n    <tr>\n      <th>2</th>\n      <td>[[[1451.0, 1358.0, 1425.0, 2568.0], [1266.0, 1...</td>\n      <td>[[[6.0], [6.0], [6.0], [6.0], [6.0], [6.0], [6...</td>\n    </tr>\n  </tbody>\n</table>\n</div>",
      "text/plain": "                                         input image  \\\n0  [[[1059.0, 1061.0, 1162.0, 1911.0], [1082.0, 1...   \n1  [[[973.0, 1060.0, 1182.0, 2611.0], [847.0, 996...   \n2  [[[1451.0, 1358.0, 1425.0, 2568.0], [1266.0, 1...   \n\n                                  conditioning image  \n0  [[[6.0], [6.0], [6.0], [6.0], [6.0], [6.0], [6...  \n1  [[[2.0], [2.0], [2.0], [2.0], [2.0], [2.0], [2...  \n2  [[[6.0], [6.0], [6.0], [6.0], [6.0], [6.0], [6...  "
     },
     "metadata": {},
     "output_type": "execute_result",
     "execution_count": 7
    }
   ],
   "source": [
    "l, r = generator.load(3)\n",
    "pd.DataFrame({\n",
    "    'input image': l,\n",
    "    'conditioning image': r\n",
    "})"
   ],
   "metadata": {
    "collapsed": false,
    "pycharm": {
     "name": "#%%\n",
     "is_executing": false
    }
   }
  }
 ],
 "metadata": {
  "kernelspec": {
   "name": "pycharm-d1f654f0",
   "language": "python",
   "display_name": "PyCharm (sentinel-cgan)"
  },
  "language_info": {
   "codemirror_mode": {
    "name": "ipython",
    "version": 2
   },
   "file_extension": ".py",
   "mimetype": "text/x-python",
   "name": "python",
   "nbconvert_exporter": "python",
   "pygments_lexer": "ipython2",
   "version": "2.7.6"
  },
  "pycharm": {
   "stem_cell": {
    "cell_type": "raw",
    "source": [],
    "metadata": {
     "collapsed": false
    }
   }
  }
 },
 "nbformat": 4,
 "nbformat_minor": 0
}