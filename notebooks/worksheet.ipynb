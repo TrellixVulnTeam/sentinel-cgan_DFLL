{
 "cells": [
  {
   "cell_type": "code",
   "execution_count": 2,
   "metadata": {
    "collapsed": true,
    "pycharm": {
     "is_executing": false
    }
   },
   "outputs": [],
   "source": [
    "import pandas as pd\n",
    "from scgan.cgan.generative_network import GenerativeNetwork\n",
    "from scgan.generator import SentinelDataGenerator, Purpose\n",
    "\n",
    "generator = SentinelDataGenerator('sample')"
   ]
  },
  {
   "cell_type": "code",
   "execution_count": 3,
   "outputs": [
    {
     "data": {
      "text/html": "<div>\n<style scoped>\n    .dataframe tbody tr th:only-of-type {\n        vertical-align: middle;\n    }\n\n    .dataframe tbody tr th {\n        vertical-align: top;\n    }\n\n    .dataframe thead th {\n        text-align: right;\n    }\n</style>\n<table border=\"1\" class=\"dataframe\">\n  <thead>\n    <tr style=\"text-align: right;\">\n      <th></th>\n      <th>id</th>\n    </tr>\n  </thead>\n  <tbody>\n    <tr>\n      <th>0</th>\n      <td>56</td>\n    </tr>\n    <tr>\n      <th>1</th>\n      <td>57</td>\n    </tr>\n    <tr>\n      <th>2</th>\n      <td>58</td>\n    </tr>\n    <tr>\n      <th>3</th>\n      <td>59</td>\n    </tr>\n    <tr>\n      <th>4</th>\n      <td>60</td>\n    </tr>\n    <tr>\n      <th>...</th>\n      <td>...</td>\n    </tr>\n    <tr>\n      <th>85</th>\n      <td>941</td>\n    </tr>\n    <tr>\n      <th>86</th>\n      <td>942</td>\n    </tr>\n    <tr>\n      <th>87</th>\n      <td>943</td>\n    </tr>\n    <tr>\n      <th>88</th>\n      <td>944</td>\n    </tr>\n    <tr>\n      <th>89</th>\n      <td>945</td>\n    </tr>\n  </tbody>\n</table>\n<p>90 rows × 1 columns</p>\n</div>",
      "text/plain": "     id\n0    56\n1    57\n2    58\n3    59\n4    60\n..  ...\n85  941\n86  942\n87  943\n88  944\n89  945\n\n[90 rows x 1 columns]"
     },
     "metadata": {},
     "output_type": "execute_result",
     "execution_count": 3
    }
   ],
   "source": [
    "generator.images_df(Purpose.TRAIN)"
   ],
   "metadata": {
    "collapsed": false,
    "pycharm": {
     "name": "#%%\n",
     "is_executing": false
    }
   }
  },
  {
   "cell_type": "code",
   "execution_count": 4,
   "outputs": [
    {
     "data": {
      "text/html": "<div>\n<style scoped>\n    .dataframe tbody tr th:only-of-type {\n        vertical-align: middle;\n    }\n\n    .dataframe tbody tr th {\n        vertical-align: top;\n    }\n\n    .dataframe thead th {\n        text-align: right;\n    }\n</style>\n<table border=\"1\" class=\"dataframe\">\n  <thead>\n    <tr style=\"text-align: right;\">\n      <th></th>\n      <th>input image</th>\n      <th>conditioning image</th>\n    </tr>\n  </thead>\n  <tbody>\n    <tr>\n      <th>0</th>\n      <td>[[[1639.0, 1424.0, 1421.0, 2307.0], [1627.0, 1...</td>\n      <td>[[[6.0], [6.0], [6.0], [6.0], [6.0], [6.0], [6...</td>\n    </tr>\n  </tbody>\n</table>\n</div>",
      "text/plain": "                                         input image  \\\n0  [[[1639.0, 1424.0, 1421.0, 2307.0], [1627.0, 1...   \n\n                                  conditioning image  \n0  [[[6.0], [6.0], [6.0], [6.0], [6.0], [6.0], [6...  "
     },
     "metadata": {},
     "output_type": "execute_result",
     "execution_count": 4
    }
   ],
   "source": [
    "l, r = generator.load(1)\n",
    "pd.DataFrame({\n",
    "    'input image': l,\n",
    "    'conditioning image': r\n",
    "})"
   ],
   "metadata": {
    "collapsed": false,
    "pycharm": {
     "name": "#%%\n",
     "is_executing": false
    }
   }
  },
  {
   "cell_type": "code",
   "execution_count": 5,
   "outputs": [
    {
     "name": "stdout",
     "text": [
      "WARNING:tensorflow:From /home/madamiak/anaconda3/envs/ml/lib/python3.7/site-packages/keras/backend/tensorflow_backend.py:74: The name tf.get_default_graph is deprecated. Please use tf.compat.v1.get_default_graph instead.\n\n",
      "WARNING:tensorflow:From /home/madamiak/anaconda3/envs/ml/lib/python3.7/site-packages/keras/backend/tensorflow_backend.py:517: The name tf.placeholder is deprecated. Please use tf.compat.v1.placeholder instead.\n\n",
      "WARNING:tensorflow:From /home/madamiak/anaconda3/envs/ml/lib/python3.7/site-packages/keras/backend/tensorflow_backend.py:4138: The name tf.random_uniform is deprecated. Please use tf.random.uniform instead.\n\n",
      "WARNING:tensorflow:From /home/madamiak/anaconda3/envs/ml/lib/python3.7/site-packages/keras/backend/tensorflow_backend.py:174: The name tf.get_default_session is deprecated. Please use tf.compat.v1.get_default_session instead.\n\n",
      "WARNING:tensorflow:From /home/madamiak/anaconda3/envs/ml/lib/python3.7/site-packages/keras/backend/tensorflow_backend.py:181: The name tf.ConfigProto is deprecated. Please use tf.compat.v1.ConfigProto instead.\n\n",
      "WARNING:tensorflow:From /home/madamiak/anaconda3/envs/ml/lib/python3.7/site-packages/keras/backend/tensorflow_backend.py:186: The name tf.Session is deprecated. Please use tf.compat.v1.Session instead.\n\n",
      "WARNING:tensorflow:From /home/madamiak/anaconda3/envs/ml/lib/python3.7/site-packages/keras/backend/tensorflow_backend.py:190: The name tf.global_variables is deprecated. Please use tf.compat.v1.global_variables instead.\n\n",
      "WARNING:tensorflow:From /home/madamiak/anaconda3/envs/ml/lib/python3.7/site-packages/keras/backend/tensorflow_backend.py:199: The name tf.is_variable_initialized is deprecated. Please use tf.compat.v1.is_variable_initialized instead.\n\n",
      "WARNING:tensorflow:From /home/madamiak/anaconda3/envs/ml/lib/python3.7/site-packages/keras/backend/tensorflow_backend.py:206: The name tf.variables_initializer is deprecated. Please use tf.compat.v1.variables_initializer instead.\n\n",
      "WARNING:tensorflow:From /home/madamiak/anaconda3/envs/ml/lib/python3.7/site-packages/keras/backend/tensorflow_backend.py:1834: The name tf.nn.fused_batch_norm is deprecated. Please use tf.compat.v1.nn.fused_batch_norm instead.\n\n",
      "WARNING:tensorflow:From /home/madamiak/anaconda3/envs/ml/lib/python3.7/site-packages/keras/backend/tensorflow_backend.py:133: The name tf.placeholder_with_default is deprecated. Please use tf.compat.v1.placeholder_with_default instead.\n\n",
      "WARNING:tensorflow:From /home/madamiak/anaconda3/envs/ml/lib/python3.7/site-packages/keras/backend/tensorflow_backend.py:2018: The name tf.image.resize_nearest_neighbor is deprecated. Please use tf.compat.v1.image.resize_nearest_neighbor instead.\n\n",
      "__________________________________________________________________________________________________\nLayer (type)                    Output Shape         Param #     Connected to                     \n==================================================================================================\ninput_1 (InputLayer)            (None, 128, 128, 4)  0                                            \n__________________________________________________________________________________________________\nconv2d_1 (Conv2D)               (None, 64, 64, 32)   2080        input_1[0][0]                    \n__________________________________________________________________________________________________\nleaky_re_lu_1 (LeakyReLU)       (None, 64, 64, 32)   0           conv2d_1[0][0]                   \n__________________________________________________________________________________________________\nconv2d_2 (Conv2D)               (None, 32, 32, 64)   32832       leaky_re_lu_1[0][0]              \n__________________________________________________________________________________________________\nleaky_re_lu_2 (LeakyReLU)       (None, 32, 32, 64)   0           conv2d_2[0][0]                   \n__________________________________________________________________________________________________\nbatch_normalization_1 (BatchNor (None, 32, 32, 64)   256         leaky_re_lu_2[0][0]              \n__________________________________________________________________________________________________\nconv2d_3 (Conv2D)               (None, 16, 16, 128)  131200      batch_normalization_1[0][0]      \n__________________________________________________________________________________________________\nleaky_re_lu_3 (LeakyReLU)       (None, 16, 16, 128)  0           conv2d_3[0][0]                   \n__________________________________________________________________________________________________\nbatch_normalization_2 (BatchNor (None, 16, 16, 128)  512         leaky_re_lu_3[0][0]              \n__________________________________________________________________________________________________\nconv2d_4 (Conv2D)               (None, 8, 8, 256)    524544      batch_normalization_2[0][0]      \n__________________________________________________________________________________________________\nleaky_re_lu_4 (LeakyReLU)       (None, 8, 8, 256)    0           conv2d_4[0][0]                   \n__________________________________________________________________________________________________\nbatch_normalization_3 (BatchNor (None, 8, 8, 256)    1024        leaky_re_lu_4[0][0]              \n__________________________________________________________________________________________________\nconv2d_5 (Conv2D)               (None, 4, 4, 256)    1048832     batch_normalization_3[0][0]      \n__________________________________________________________________________________________________\nleaky_re_lu_5 (LeakyReLU)       (None, 4, 4, 256)    0           conv2d_5[0][0]                   \n__________________________________________________________________________________________________\nbatch_normalization_4 (BatchNor (None, 4, 4, 256)    1024        leaky_re_lu_5[0][0]              \n__________________________________________________________________________________________________\nconv2d_6 (Conv2D)               (None, 2, 2, 256)    1048832     batch_normalization_4[0][0]      \n__________________________________________________________________________________________________\nleaky_re_lu_6 (LeakyReLU)       (None, 2, 2, 256)    0           conv2d_6[0][0]                   \n__________________________________________________________________________________________________\nbatch_normalization_5 (BatchNor (None, 2, 2, 256)    1024        leaky_re_lu_6[0][0]              \n__________________________________________________________________________________________________\nconv2d_7 (Conv2D)               (None, 1, 1, 256)    1048832     batch_normalization_5[0][0]      \n__________________________________________________________________________________________________\nleaky_re_lu_7 (LeakyReLU)       (None, 1, 1, 256)    0           conv2d_7[0][0]                   \n__________________________________________________________________________________________________\nbatch_normalization_6 (BatchNor (None, 1, 1, 256)    1024        leaky_re_lu_7[0][0]              \n__________________________________________________________________________________________________\nup_sampling2d_1 (UpSampling2D)  (None, 2, 2, 256)    0           batch_normalization_6[0][0]      \n__________________________________________________________________________________________________\nconv2d_8 (Conv2D)               (None, 2, 2, 256)    1048832     up_sampling2d_1[0][0]            \n__________________________________________________________________________________________________\nbatch_normalization_7 (BatchNor (None, 2, 2, 256)    1024        conv2d_8[0][0]                   \n__________________________________________________________________________________________________\nconcatenate_1 (Concatenate)     (None, 2, 2, 512)    0           batch_normalization_7[0][0]      \n                                                                 batch_normalization_5[0][0]      \n__________________________________________________________________________________________________\nup_sampling2d_2 (UpSampling2D)  (None, 4, 4, 512)    0           concatenate_1[0][0]              \n__________________________________________________________________________________________________\nconv2d_9 (Conv2D)               (None, 4, 4, 256)    2097408     up_sampling2d_2[0][0]            \n__________________________________________________________________________________________________\nbatch_normalization_8 (BatchNor (None, 4, 4, 256)    1024        conv2d_9[0][0]                   \n__________________________________________________________________________________________________\nconcatenate_2 (Concatenate)     (None, 4, 4, 512)    0           batch_normalization_8[0][0]      \n                                                                 batch_normalization_4[0][0]      \n__________________________________________________________________________________________________\nup_sampling2d_3 (UpSampling2D)  (None, 8, 8, 512)    0           concatenate_2[0][0]              \n__________________________________________________________________________________________________\nconv2d_10 (Conv2D)              (None, 8, 8, 256)    2097408     up_sampling2d_3[0][0]            \n__________________________________________________________________________________________________\nbatch_normalization_9 (BatchNor (None, 8, 8, 256)    1024        conv2d_10[0][0]                  \n__________________________________________________________________________________________________\nconcatenate_3 (Concatenate)     (None, 8, 8, 512)    0           batch_normalization_9[0][0]      \n                                                                 batch_normalization_3[0][0]      \n__________________________________________________________________________________________________\nup_sampling2d_4 (UpSampling2D)  (None, 16, 16, 512)  0           concatenate_3[0][0]              \n__________________________________________________________________________________________________\nconv2d_11 (Conv2D)              (None, 16, 16, 128)  1048704     up_sampling2d_4[0][0]            \n__________________________________________________________________________________________________\nbatch_normalization_10 (BatchNo (None, 16, 16, 128)  512         conv2d_11[0][0]                  \n__________________________________________________________________________________________________\nconcatenate_4 (Concatenate)     (None, 16, 16, 256)  0           batch_normalization_10[0][0]     \n                                                                 batch_normalization_2[0][0]      \n__________________________________________________________________________________________________\nup_sampling2d_5 (UpSampling2D)  (None, 32, 32, 256)  0           concatenate_4[0][0]              \n__________________________________________________________________________________________________\nconv2d_12 (Conv2D)              (None, 32, 32, 64)   262208      up_sampling2d_5[0][0]            \n__________________________________________________________________________________________________\nbatch_normalization_11 (BatchNo (None, 32, 32, 64)   256         conv2d_12[0][0]                  \n__________________________________________________________________________________________________\nconcatenate_5 (Concatenate)     (None, 32, 32, 128)  0           batch_normalization_11[0][0]     \n                                                                 batch_normalization_1[0][0]      \n__________________________________________________________________________________________________\nup_sampling2d_6 (UpSampling2D)  (None, 64, 64, 128)  0           concatenate_5[0][0]              \n__________________________________________________________________________________________________\nconv2d_13 (Conv2D)              (None, 64, 64, 32)   65568       up_sampling2d_6[0][0]            \n__________________________________________________________________________________________________\nbatch_normalization_12 (BatchNo (None, 64, 64, 32)   128         conv2d_13[0][0]                  \n__________________________________________________________________________________________________\nconcatenate_6 (Concatenate)     (None, 64, 64, 64)   0           batch_normalization_12[0][0]     \n                                                                 leaky_re_lu_1[0][0]              \n__________________________________________________________________________________________________\nup_sampling2d_7 (UpSampling2D)  (None, 128, 128, 64) 0           concatenate_6[0][0]              \n__________________________________________________________________________________________________\nconv2d_14 (Conv2D)              (None, 128, 128, 128 131200      up_sampling2d_7[0][0]            \n==================================================================================================\nTotal params: 10,597,312\nTrainable params: 10,592,896\nNon-trainable params: 4,416\n__________________________________________________________________________________________________\n"
     ],
     "output_type": "stream"
    }
   ],
   "source": [
    "generative_network = GenerativeNetwork()\n",
    "gen_model = generative_network.build(input_shape=(128, 128, 4), init_filters=32)\n",
    "gen_model.summary()"
   ],
   "metadata": {
    "collapsed": false,
    "pycharm": {
     "name": "#%%\n",
     "is_executing": false
    }
   }
  }
 ],
 "metadata": {
  "kernelspec": {
   "name": "pycharm-d1f654f0",
   "language": "python",
   "display_name": "PyCharm (sentinel-cgan)"
  },
  "language_info": {
   "codemirror_mode": {
    "name": "ipython",
    "version": 2
   },
   "file_extension": ".py",
   "mimetype": "text/x-python",
   "name": "python",
   "nbconvert_exporter": "python",
   "pygments_lexer": "ipython2",
   "version": "2.7.6"
  },
  "pycharm": {
   "stem_cell": {
    "cell_type": "raw",
    "source": [],
    "metadata": {
     "collapsed": false
    }
   }
  }
 },
 "nbformat": 4,
 "nbformat_minor": 0
}